{
 "cells": [
  {
   "cell_type": "code",
   "execution_count": 52,
   "metadata": {},
   "outputs": [],
   "source": [
    "from dotenv import load_dotenv\n",
    "load_dotenv()  # .env 파일 로드\n",
    "\n",
    "from langchain.chat_models import ChatOpenAI\n",
    "from langchain.prompts import PromptTemplate, ChatPromptTemplate\n",
    "from langchain.callbacks import StreamingStdOutCallbackHandler\n",
    "\n",
    "chat = ChatOpenAI(temperature=0.1, streaming=True, callbacks=[StreamingStdOutCallbackHandler()])\n"
   ]
  },
  {
   "cell_type": "code",
   "execution_count": 24,
   "metadata": {},
   "outputs": [
    {
     "data": {
      "text/plain": [
       "AIMessage(content='서울과 도쿄의 직선 거리는 약 1,200km 정도입니다. 제 이름은 지쿠입니다. 어떤 다른 질문이 있나요?')"
      ]
     },
     "execution_count": 24,
     "metadata": {},
     "output_type": "execute_result"
    }
   ],
   "source": [
    "templete = PromptTemplate.from_template(\n",
    "  \"{city1}과 {city2}의 거리는 얼마나 되나요?\"\n",
    ")\n",
    "\n",
    "prompt = templete.format(city1=\"서울\", city2=\"도쿄\")\n",
    "\n",
    "chat.predict(prompt)\n",
    "\n",
    "templete = ChatPromptTemplate.from_messages([\n",
    "  (\"system\", \"당신은 지리전문가입니다. 그리고 당신은 {language}로만 사용해서 대답합니다. \"), # 시스템 메시지\n",
    "  (\"ai\", \"안녕하세요. 저는 지리전문가 {name}입니다. 무엇을 도와드릴까요?\"),             # 초기 메모리\n",
    "  (\"human\", \"{city1}과 {city2}의 거리는 얼마나 되나요? 그리고 당신의 이름은 무엇인가요?\"),   # 사용자 메시지\n",
    "])\n",
    "\n",
    "\n",
    "prompt = templete.format_messages(language=\"한국어\", name=\"지쿠\", city1=\"서울\", city2=\"도쿄\")\n",
    "\n",
    "chat.predict_messages(prompt)"
   ]
  },
  {
   "cell_type": "code",
   "execution_count": 33,
   "metadata": {},
   "outputs": [],
   "source": [
    "from langchain.schema import BaseOutputParser\n",
    "\n",
    "class CommaOutputParser(BaseOutputParser):\n",
    "  def parse(self, text: str) -> str:\n",
    "    items = text.strip().split(\",\")\n",
    "    return [item.strip() for item in items]\n"
   ]
  },
  {
   "cell_type": "code",
   "execution_count": 50,
   "metadata": {},
   "outputs": [],
   "source": [
    "templete = ChatPromptTemplate.from_messages([\n",
    "  (\"system\", \"당신은 리스트 생성 머신입니다. 당신의 대답하는 문장을 콤마로 구분되는 단어 리스트로 만들어주세요. 최대 {max_items}개 만큼 만들어주세요. 모든 값은 중복되지 않아야합니다.\"), # 시스템 메시지\n",
    "  (\"human\", \"{question}\"),   # 사용자 메시지\n",
    "])\n",
    "\n",
    "\n",
    "templete2 = ChatPromptTemplate.from_messages([\n",
    "  (\"system\", \"당신은 영어 학습 마스터입니다. 리스트값을 기반으로 갖고 영어단어로 번역해주세요. 그리고 한국어 뜻도 같이 배열로 출력해주세요. 예시: [Seoul: 서울시], [Tokyo: 도쿄시]\"), # 시스템 메시지\n",
    "  (\"human\", \"{listItems}\"),   # 사용자 메시지\n",
    "])\n"
   ]
  },
  {
   "cell_type": "code",
   "execution_count": 55,
   "metadata": {},
   "outputs": [
    {
     "name": "stdout",
     "output_type": "stream",
     "text": [
      "1. 온라인,\n",
      "2. 공식문서,\n",
      "3. 프로젝트,\n",
      "4. 커뮤니티,\n",
      "5. 튜토리얼,\n",
      "6. 책,\n",
      "7. 실습,\n",
      "8. 강의,\n",
      "9. 스터디그룹,\n",
      "10. 블로그['online: 온라인', 'official document: 공식문서', 'project: 프로젝트', 'community: 커뮤니티', 'tutorial: 튜토리얼', 'book: 책', 'practice: 실습', 'lecture: 강의', 'study group: 스터디그룹', 'blog: 블로그']"
     ]
    },
    {
     "data": {
      "text/plain": [
       "\"['online: 온라인', 'official document: 공식문서', 'project: 프로젝트', 'community: 커뮤니티', 'tutorial: 튜토리얼', 'book: 책', 'practice: 실습', 'lecture: 강의', 'study group: 스터디그룹', 'blog: 블로그']\""
      ]
     },
     "execution_count": 55,
     "metadata": {},
     "output_type": "execute_result"
    }
   ],
   "source": [
    "w_chain = templete | chat \n",
    "e_chain = templete2 | chat \n",
    "\n",
    "f_chain = {\"listItems\": w_chain} | e_chain\n",
    "\n",
    "result = f_chain.invoke({\"max_items\": \"10\", \"question\": \"golang을 공부하는 방법은 무엇인가요?\"})\n",
    "\n",
    "result.content"
   ]
  },
  {
   "cell_type": "code",
   "execution_count": 62,
   "metadata": {},
   "outputs": [
    {
     "name": "stdout",
     "output_type": "stream",
     "text": [
      "고랭의 세계로 발을 딛고 싶다면\n",
      "첫걸음은 겸손한 마음으로 시작하라\n",
      "문법과 논리를 익히며 나아가\n",
      "프로그램의 흐름을 읽고 쓰는 법을 익혀라\n",
      "\n",
      "예제와 실습을 통해 익숙해지고\n",
      "컴퓨터와 대화하듯이 코드를 작성하라\n",
      "오류와 실패를 두려워 말고\n",
      "계속해서 도전하며 배움의 길을 걸어가라\n",
      "\n",
      "고랭의 세계는 넓고 심오하며\n",
      "끝없는 탐구와 발견이 기다리고 있으니\n",
      "열정과 인내를 가지고\n",
      "한 걸음 한 걸음 나아가 보라\n",
      "\n",
      "그리고 언젠가\n",
      "당신만의 아름다운 코드가 탄생할 것이다.고랭의 세계로 발을 딛고 싶다면 첫걸음은 겸손한 마음으로 시작하라. 문법과 논리를 익히며 나아가 프로그램의 흐름을 읽고 쓰는 법을 익혀라. 예제와 실습을 통해 익숙해지고 컴퓨터와 대화하듯이 코드를 작성하라. 오류와 실패를 두려워 말고 계속해서 도전하며 배움의 길을 걸어가라. 고랭의 세계는 넓고 심오하며 끝없는 탐구와 발견이 기다리고 있으니 열정과 인내를 가지고 한 걸음 한 걸음 나아가 보라. 그리고 언젠가 당신만의 아름다운 코드가 탄생할 것이다.\n",
      "\n",
      "이 시는 프로그래밍 언어인 고랭(GoLang)에 대한 학습과 탐구를 다룬 시로, 고랭의 세계로 발을 딛고 싶은 사람들에게 격려와 조언을 전하는 내용을 담고 있습니다. 시인은 겸손한 마음가짐과 끈기, 열정, 인내를 가지고 고랭을 배우고 익히며 성장해 나가라는 메시지를 전달하고 있습니다. 또한, 오류와 실패를 두려워하지 말고 계속 도전하며 발전해 나가야 한다는 점을 강조하고 있습니다. 마지막으로, 고랭을 통해 자신만의 아름다운 코드를 작성할 수 있을 것이라는 희망을 전하며 독자들을 격려하고 있습니다."
     ]
    },
    {
     "data": {
      "text/plain": [
       "AIMessageChunk(content='고랭의 세계로 발을 딛고 싶다면 첫걸음은 겸손한 마음으로 시작하라. 문법과 논리를 익히며 나아가 프로그램의 흐름을 읽고 쓰는 법을 익혀라. 예제와 실습을 통해 익숙해지고 컴퓨터와 대화하듯이 코드를 작성하라. 오류와 실패를 두려워 말고 계속해서 도전하며 배움의 길을 걸어가라. 고랭의 세계는 넓고 심오하며 끝없는 탐구와 발견이 기다리고 있으니 열정과 인내를 가지고 한 걸음 한 걸음 나아가 보라. 그리고 언젠가 당신만의 아름다운 코드가 탄생할 것이다.\\n\\n이 시는 프로그래밍 언어인 고랭(GoLang)에 대한 학습과 탐구를 다룬 시로, 고랭의 세계로 발을 딛고 싶은 사람들에게 격려와 조언을 전하는 내용을 담고 있습니다. 시인은 겸손한 마음가짐과 끈기, 열정, 인내를 가지고 고랭을 배우고 익히며 성장해 나가라는 메시지를 전달하고 있습니다. 또한, 오류와 실패를 두려워하지 말고 계속 도전하며 발전해 나가야 한다는 점을 강조하고 있습니다. 마지막으로, 고랭을 통해 자신만의 아름다운 코드를 작성할 수 있을 것이라는 희망을 전하며 독자들을 격려하고 있습니다.')"
      ]
     },
     "execution_count": 62,
     "metadata": {},
     "output_type": "execute_result"
    }
   ],
   "source": [
    "templete = ChatPromptTemplate.from_messages([\n",
    "  (\"system\", \"당신은 프로그래밍 언어 {language}를 기반으로 시를 쓰는, 특히 서정시와 산문시 전문가입니다. 사용자의 키워드에 영감을 받아 시를 써 주세요. 시의 형태를 유지해서 작성해주세요\"), # 시스템 메시지\n",
    "  (\"human\", \"{keyword}\"),   # 사용자 메시지\n",
    "])\n",
    "\n",
    "\n",
    "templete2 = ChatPromptTemplate.from_messages([\n",
    "  (\"system\", \"시 분석 마스터입니다. 사용자의 시를 분석하고 설명해 주세요. 그리고 시의 특징을 설명해 주세요. 시와 설명은 띄어쓰기로 구분해주세요.\"), # 시스템 메시지\n",
    "  (\"human\", \"{poem}\"),   # 사용자 메시지\n",
    "])\n",
    "\n",
    "p_chain = templete | chat \n",
    "p2_chain = templete2 | chat \n",
    "\n",
    "f_chain = {\"poem\": p_chain} | p2_chain\n",
    "\n",
    "f_chain.invoke({\"language\": \"golang\", \"keyword\": \"golang을 공부하는 방법은 무엇인가요?\"})\n"
   ]
  }
 ],
 "metadata": {
  "kernelspec": {
   "display_name": "env",
   "language": "python",
   "name": "python3"
  },
  "language_info": {
   "codemirror_mode": {
    "name": "ipython",
    "version": 3
   },
   "file_extension": ".py",
   "mimetype": "text/x-python",
   "name": "python",
   "nbconvert_exporter": "python",
   "pygments_lexer": "ipython3",
   "version": "3.11.9"
  }
 },
 "nbformat": 4,
 "nbformat_minor": 2
}
