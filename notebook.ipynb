{
 "cells": [
  {
   "cell_type": "code",
   "execution_count": 52,
   "metadata": {},
   "outputs": [],
   "source": [
    "from dotenv import load_dotenv\n",
    "load_dotenv()  # .env 파일 로드\n",
    "\n",
    "from langchain.chat_models import ChatOpenAI\n",
    "from langchain.prompts import PromptTemplate, ChatPromptTemplate\n",
    "from langchain.callbacks import StreamingStdOutCallbackHandler\n",
    "\n",
    "chat = ChatOpenAI(temperature=0.1, streaming=True, callbacks=[StreamingStdOutCallbackHandler()])\n"
   ]
  },
  {
   "cell_type": "code",
   "execution_count": 24,
   "metadata": {},
   "outputs": [
    {
     "data": {
      "text/plain": [
       "AIMessage(content='서울과 도쿄의 직선 거리는 약 1,200km 정도입니다. 제 이름은 지쿠입니다. 어떤 다른 질문이 있나요?')"
      ]
     },
     "execution_count": 24,
     "metadata": {},
     "output_type": "execute_result"
    }
   ],
   "source": [
    "templete = PromptTemplate.from_template(\n",
    "  \"{city1}과 {city2}의 거리는 얼마나 되나요?\"\n",
    ")\n",
    "\n",
    "prompt = templete.format(city1=\"서울\", city2=\"도쿄\")\n",
    "\n",
    "chat.predict(prompt)\n",
    "\n",
    "templete = ChatPromptTemplate.from_messages([\n",
    "  (\"system\", \"당신은 지리전문가입니다. 그리고 당신은 {language}로만 사용해서 대답합니다. \"), # 시스템 메시지\n",
    "  (\"ai\", \"안녕하세요. 저는 지리전문가 {name}입니다. 무엇을 도와드릴까요?\"),             # 초기 메모리\n",
    "  (\"human\", \"{city1}과 {city2}의 거리는 얼마나 되나요? 그리고 당신의 이름은 무엇인가요?\"),   # 사용자 메시지\n",
    "])\n",
    "\n",
    "\n",
    "prompt = templete.format_messages(language=\"한국어\", name=\"지쿠\", city1=\"서울\", city2=\"도쿄\")\n",
    "\n",
    "chat.predict_messages(prompt)"
   ]
  },
  {
   "cell_type": "code",
   "execution_count": 33,
   "metadata": {},
   "outputs": [],
   "source": [
    "from langchain.schema import BaseOutputParser\n",
    "\n",
    "class CommaOutputParser(BaseOutputParser):\n",
    "  def parse(self, text: str) -> str:\n",
    "    items = text.strip().split(\",\")\n",
    "    return [item.strip() for item in items]\n"
   ]
  },
  {
   "cell_type": "code",
   "execution_count": 50,
   "metadata": {},
   "outputs": [],
   "source": [
    "templete = ChatPromptTemplate.from_messages([\n",
    "  (\"system\", \"당신은 리스트 생성 머신입니다. 당신의 대답하는 문장을 콤마로 구분되는 단어 리스트로 만들어주세요. 최대 {max_items}개 만큼 만들어주세요. 모든 값은 중복되지 않아야합니다.\"), # 시스템 메시지\n",
    "  (\"human\", \"{question}\"),   # 사용자 메시지\n",
    "])\n",
    "\n",
    "\n",
    "templete2 = ChatPromptTemplate.from_messages([\n",
    "  (\"system\", \"당신은 영어 학습 마스터입니다. 리스트값을 기반으로 갖고 영어단어로 번역해주세요. 그리고 한국어 뜻도 같이 배열로 출력해주세요. 예시: [Seoul: 서울시], [Tokyo: 도쿄시]\"), # 시스템 메시지\n",
    "  (\"human\", \"{listItems}\"),   # 사용자 메시지\n",
    "])\n"
   ]
  },
  {
   "cell_type": "code",
   "execution_count": 55,
   "metadata": {},
   "outputs": [
    {
     "name": "stdout",
     "output_type": "stream",
     "text": [
      "1. 온라인,\n",
      "2. 공식문서,\n",
      "3. 프로젝트,\n",
      "4. 커뮤니티,\n",
      "5. 튜토리얼,\n",
      "6. 책,\n",
      "7. 실습,\n",
      "8. 강의,\n",
      "9. 스터디그룹,\n",
      "10. 블로그['online: 온라인', 'official document: 공식문서', 'project: 프로젝트', 'community: 커뮤니티', 'tutorial: 튜토리얼', 'book: 책', 'practice: 실습', 'lecture: 강의', 'study group: 스터디그룹', 'blog: 블로그']"
     ]
    },
    {
     "data": {
      "text/plain": [
       "\"['online: 온라인', 'official document: 공식문서', 'project: 프로젝트', 'community: 커뮤니티', 'tutorial: 튜토리얼', 'book: 책', 'practice: 실습', 'lecture: 강의', 'study group: 스터디그룹', 'blog: 블로그']\""
      ]
     },
     "execution_count": 55,
     "metadata": {},
     "output_type": "execute_result"
    }
   ],
   "source": [
    "w_chain = templete | chat \n",
    "e_chain = templete2 | chat \n",
    "\n",
    "f_chain = {\"listItems\": w_chain} | e_chain\n",
    "\n",
    "result = f_chain.invoke({\"max_items\": \"10\", \"question\": \"golang을 공부하는 방법은 무엇인가요?\"})\n",
    "\n",
    "result.content"
   ]
  }
 ],
 "metadata": {
  "kernelspec": {
   "display_name": "env",
   "language": "python",
   "name": "python3"
  },
  "language_info": {
   "codemirror_mode": {
    "name": "ipython",
    "version": 3
   },
   "file_extension": ".py",
   "mimetype": "text/x-python",
   "name": "python",
   "nbconvert_exporter": "python",
   "pygments_lexer": "ipython3",
   "version": "3.11.9"
  }
 },
 "nbformat": 4,
 "nbformat_minor": 2
}
