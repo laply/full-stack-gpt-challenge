{
 "cells": [
  {
   "cell_type": "code",
   "execution_count": 9,
   "metadata": {},
   "outputs": [
    {
     "name": "stdout",
     "output_type": "stream",
     "text": [
      "AI:\n",
      "     감독: 윤제균\n",
      "     주요 출연진: 황정민, 김윤진, 오달수\n",
      "     예산: 약 50억 원\n",
      "     흥행 수익: 약 1조 139억 원\n",
      "     영화의 장르: 드라마, 가족\n",
      "     간단 시놉시스: 1950년대부터 1990년대까지의 한국 역사를 배경으로 한 가족의 이야기를 그린 영화. 가난한 가족이 국제시장에서 물건을 사고파는 일을 하면서 겪는 어려움과 희생, 그리고 가족 사랑을 그리고 있다. 간단한 일상 속에서도 가족 간의 소중한 순간들을 통해 따뜻한 감동을 전하는 작품이다."
     ]
    },
    {
     "data": {
      "text/plain": [
       "AIMessageChunk(content='AI:\\n     감독: 윤제균\\n     주요 출연진: 황정민, 김윤진, 오달수\\n     예산: 약 50억 원\\n     흥행 수익: 약 1조 139억 원\\n     영화의 장르: 드라마, 가족\\n     간단 시놉시스: 1950년대부터 1990년대까지의 한국 역사를 배경으로 한 가족의 이야기를 그린 영화. 가난한 가족이 국제시장에서 물건을 사고파는 일을 하면서 겪는 어려움과 희생, 그리고 가족 사랑을 그리고 있다. 간단한 일상 속에서도 가족 간의 소중한 순간들을 통해 따뜻한 감동을 전하는 작품이다.')"
      ]
     },
     "execution_count": 9,
     "metadata": {},
     "output_type": "execute_result"
    }
   ],
   "source": [
    "from dotenv import load_dotenv\n",
    "load_dotenv()  # .env 파일 로드\n",
    "\n",
    "from langchain.chat_models import ChatOpenAI\n",
    "from langchain.prompts.few_shot import FewShotPromptTemplate\n",
    "from langchain.callbacks import StreamingStdOutCallbackHandler\n",
    "from langchain.prompts import PromptTemplate\n",
    "\n",
    "chat = ChatOpenAI(temperature=0.1, streaming=True, callbacks=[StreamingStdOutCallbackHandler()])\n",
    "\n",
    "\n",
    "examples = [\n",
    "    {\"movie_name\": \"타이타닉\", \"answer\": \"\"\"\n",
    "     감독 : 제임스 카메론\n",
    "     주요 출연진: 레오나르도 디카프리오, 케이트 윈슬렛\n",
    "     예산: 약 29억 원\n",
    "     흥행 수익: 약 3조 370억 원\n",
    "     영화의 장르: 로맨스, 드라마, 멜로\n",
    "     간단 시놉시스: 1912년 4월 귀족 가문의 딸인 로즈는 타이태닉호에 승선한다. 사랑하지도 않는 남자와 결혼해야 한다는 사실에 절망한 로즈는 자살을 시도하지만, 마침 가난한 화가인 잭이 구해주게 되고 둘은 서로 사랑에 빠진다. 미래를 함께 약속하며 행복한 시간을 보내는 것도 잠시, 로즈와 잭은 예상치 못한 난관과 마주하게 된다.\n",
    "     \"\"\"},\n",
    "    {\"movie_name\": \"광해, 왕이 된 남자\", \"answer\": \"\"\"\n",
    "     감독 : 추창민\n",
    "     주요 출연진: 이병헌, 류승룡, 한효주\n",
    "     예산: 약 65 억 원\n",
    "     흥행 수익: 약 729억 원 \n",
    "     영화의 장르: 사극, 드라마, 역사\n",
    "     간단 시놉시스: 광해군 8년 자신의 정적으로부터 생명의 위협을 느끼게 되는 왕 광해(이병헌)는 도승지 허균(류승룡)에게 지시하여 자신의 대역을 찾게 하였다. 허균은 광해와 똑같이 닮은 만담꾼 하선(이병헌)을 발견하게 되고 하선을 왕의 대역으로 교육시켜 왕 광해가 자리를 비우는 시기에 왕의 역할을 수행하게 하는데 하선은 타고난 끼로 완벽히 왕의 흉내를 한다. 말투부터 걸음걸이, 국정을 다스리는 법까지 진짜 왕과 같아지기 위해 허균의 지시와 훈련을 받는다. 그렇게 열심히 왕의 역할을 수행하였지만 점점 하선은 자신의 목소리를 내기 시작하면서 왕실 내에 조력자가 생기기도 하고, 자신이 진짜 왕이 아니라는 것을 알아내려 하는 적도 생긴다.\n",
    "     \"\"\"},\n",
    "]\n",
    "\n",
    "\n",
    "example_prompt = PromptTemplate.from_template(\"\"\"\n",
    "    Human: 영화 {movie_name}의 기본정보를 알려줘 AI: {answer}\n",
    "\"\"\")\n",
    "\n",
    "full_prompt = FewShotPromptTemplate(\n",
    "  examples=examples,\n",
    "  example_prompt=example_prompt,\n",
    "  suffix=\"Human:영화 {movie_name}의 기본정보를 알려줘\",\n",
    "  input_variables=[\"movie_name\"]\n",
    ")\n",
    "\n",
    "\n",
    "\n",
    "chain = full_prompt | chat\n",
    "\n",
    "chain.invoke({\"movie_name\": \"국제시장\"})"
   ]
  }
 ],
 "metadata": {
  "kernelspec": {
   "display_name": "env",
   "language": "python",
   "name": "python3"
  },
  "language_info": {
   "codemirror_mode": {
    "name": "ipython",
    "version": 3
   },
   "file_extension": ".py",
   "mimetype": "text/x-python",
   "name": "python",
   "nbconvert_exporter": "python",
   "pygments_lexer": "ipython3",
   "version": "3.11.9"
  }
 },
 "nbformat": 4,
 "nbformat_minor": 2
}
