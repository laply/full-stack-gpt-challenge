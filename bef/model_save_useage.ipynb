{
 "cells": [
  {
   "cell_type": "code",
   "execution_count": 8,
   "metadata": {},
   "outputs": [],
   "source": [
    "from dotenv import load_dotenv\n",
    "load_dotenv()  # .env 파일 로드\n",
    "\n",
    "from langchain.chat_models import ChatOpenAI\n",
    "from langchain.llms.openai import OpenAI\n",
    "from langchain.llms import load_llm\n",
    "\n",
    "\n",
    "chat = load_llm(\"model.json\")\n",
    "chat.save(\"model.json\")\n",
    "\n",
    "# with get_openai_callback() as usage:\n",
    "#     a = chat.predict(\"햄버거를 만들려면 어떻게해?\")\n",
    "#     b = chat.predict(\"피자를 만들려면 어떻게해?\")\n",
    "\n",
    "#     print(a,b,\"\\n\")\n",
    "#     print(usage)\n"
   ]
  }
 ],
 "metadata": {
  "kernelspec": {
   "display_name": "env",
   "language": "python",
   "name": "python3"
  },
  "language_info": {
   "codemirror_mode": {
    "name": "ipython",
    "version": 3
   },
   "file_extension": ".py",
   "mimetype": "text/x-python",
   "name": "python",
   "nbconvert_exporter": "python",
   "pygments_lexer": "ipython3",
   "version": "3.11.9"
  }
 },
 "nbformat": 4,
 "nbformat_minor": 2
}
