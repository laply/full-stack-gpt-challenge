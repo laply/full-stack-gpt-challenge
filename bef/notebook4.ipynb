{
 "cells": [
  {
   "cell_type": "code",
   "execution_count": 32,
   "metadata": {},
   "outputs": [
    {
     "name": "stdout",
     "output_type": "stream",
     "text": [
      "팔로우 플랭크, 레그레이즈, 시트업 등 복근을 강화하는 운동을 추천합니다. 복근을 만들기 위해서는 꾸준한 운동과 올바른 식습관이 중요합니다. 꾸준히 운동을 하면서 복근을 강화해보세요!"
     ]
    },
    {
     "data": {
      "text/plain": [
       "AIMessageChunk(content='팔로우 플랭크, 레그레이즈, 시트업 등 복근을 강화하는 운동을 추천합니다. 복근을 만들기 위해서는 꾸준한 운동과 올바른 식습관이 중요합니다. 꾸준히 운동을 하면서 복근을 강화해보세요!')"
      ]
     },
     "execution_count": 32,
     "metadata": {},
     "output_type": "execute_result"
    }
   ],
   "source": [
    "from dotenv import load_dotenv\n",
    "load_dotenv()  # .env 파일 로드\n",
    "\n",
    "from langchain.chat_models import ChatOpenAI\n",
    "from langchain.callbacks import StreamingStdOutCallbackHandler\n",
    "from langchain.prompts import PromptTemplate\n",
    "from langchain.prompts.pipeline import PipelinePromptTemplate\n",
    "\n",
    "chat = ChatOpenAI(temperature=0.1, streaming=True, callbacks=[StreamingStdOutCallbackHandler()])\n",
    "\n",
    "intro = PromptTemplate.from_template(\n",
    "\"\"\"\n",
    "    당신은 맨몸운동 코칭 프로그램을 만들어주는 전문가입니다.\n",
    "    그리고 당신은 {user_name}님의 맨몸운동 코칭 프로그램을 만들어주세요.  \n",
    "\"\"\"\n",
    ")\n",
    "\n",
    "example = PromptTemplate.from_template(\n",
    "    \"\"\"\n",
    "      이것은 예시입니다.\n",
    "\n",
    "      학습자 : {example_question}\n",
    "      답변 : {example_answer}\n",
    "    \"\"\"\n",
    ")\n",
    "\n",
    "\n",
    "start = PromptTemplate.from_template(\n",
    "    \"\"\"\n",
    "        시작합니다!\n",
    "\n",
    "        학습자 : {question}\n",
    "        답변:\n",
    "    \"\"\"\n",
    ")\n",
    "\n",
    "final = PromptTemplate.from_template(\n",
    "    \"\"\"\n",
    "        {intro}\n",
    "\n",
    "        {example}\n",
    "\n",
    "        {start}\n",
    "    \"\"\"\n",
    ")\n",
    "\n",
    "prompt = [\n",
    "  (\"intro\", intro),\n",
    "  (\"example\", example),\n",
    "  (\"start\", start),\n",
    "]\n",
    "\n",
    "\n",
    "full_prompt = PipelinePromptTemplate(\n",
    "  final_prompt=final, \n",
    "  pipeline_prompts=prompt\n",
    ")\n",
    "\n",
    "full_prompt.format(\n",
    "  user_name=\"박서영\", \n",
    "  example_question=\"복근 만드려면 어떤 운동을 해야하나요?\", \n",
    "  example_answer=\"플랭크를 해야합니다.\", \n",
    "  question=\"다이어트 하려면 어떤 운동을 해야하나요?\" \n",
    ")\n",
    "\n",
    "\n",
    "chain = full_prompt | chat\n",
    "\n",
    "chain.invoke({\"user_name\": \"박서영\", \"example_question\": \"다이어트 하려면 어떤 운동을 해야하나요?\", \"example_answer\": \"러닝을 추천합니다.\", \"question\": \"복근 만드려면 어떤 운동을 해야하나요?\"})"
   ]
  },
  {
   "cell_type": "code",
   "execution_count": null,
   "metadata": {},
   "outputs": [
    {
     "name": "stdout",
     "output_type": "stream",
     "text": [
      "팔로우 플랭크, 레그레이즈, 시트업 등 복근을 강화하는 운동을 추천합니다. 복근을 만들기 위해서는 꾸준한 운동과 올바른 식습관이 중요합니다. 꾸준히 운동을 하면서 복근을 강화해보세요!"
     ]
    },
    {
     "data": {
      "text/plain": [
       "AIMessageChunk(content='팔로우 플랭크, 레그레이즈, 시트업 등 복근을 강화하는 운동을 추천합니다. 복근을 만들기 위해서는 꾸준한 운동과 올바른 식습관이 중요합니다. 꾸준히 운동을 하면서 복근을 강화해보세요!')"
      ]
     },
     "metadata": {},
     "output_type": "display_data"
    }
   ],
   "source": [
    "from dotenv import load_dotenv\n",
    "load_dotenv()  # .env 파일 로드\n",
    "\n",
    "from langchain.chat_models import ChatOpenAI\n",
    "from langchain.callbacks import StreamingStdOutCallbackHandler\n",
    "from langchain.prompts import PromptTemplate\n",
    "from langchain.prompts.pipeline import PipelinePromptTemplate\n",
    "\n",
    "chat = ChatOpenAI(temperature=0.1, streaming=True, callbacks=[StreamingStdOutCallbackHandler()])\n",
    "\n",
    "intro = PromptTemplate.from_template(\n",
    "\"\"\"\n",
    "    당신은 맨몸운동 코칭 프로그램을 만들어주는 전문가입니다.\n",
    "    그리고 당신은 {user_name}님의 맨몸운동 코칭 프로그램을 만들어주세요.  \n",
    "\"\"\"\n",
    ")\n",
    "\n",
    "example = PromptTemplate.from_template(\n",
    "    \"\"\"\n",
    "      이것은 예시입니다.\n",
    "\n",
    "      학습자 : {example_question}\n",
    "      답변 : {example_answer}\n",
    "    \"\"\"\n",
    ")\n",
    "\n",
    "\n",
    "start = PromptTemplate.from_template(\n",
    "    \"\"\"\n",
    "        시작합니다!\n",
    "\n",
    "        학습자 : {question}\n",
    "        답변:\n",
    "    \"\"\"\n",
    ")\n",
    "\n",
    "final = PromptTemplate.from_template(\n",
    "    \"\"\"\n",
    "        {intro}\n",
    "\n",
    "        {example}\n",
    "\n",
    "        {start}\n",
    "    \"\"\"\n",
    ")\n",
    "\n",
    "prompt = [\n",
    "  (\"intro\", intro),\n",
    "  (\"example\", example),\n",
    "  (\"start\", start),\n",
    "]\n",
    "\n",
    "\n",
    "full_prompt = PipelinePromptTemplate(\n",
    "  final_prompt=final, \n",
    "  pipeline_prompts=prompt\n",
    ")\n",
    "\n",
    "full_prompt.format(\n",
    "  user_name=\"박서영\", \n",
    "  example_question=\"복근 만드려면 어떤 운동을 해야하나요?\", \n",
    "  example_answer=\"플랭크를 해야합니다.\", \n",
    "  question=\"다이어트 하려면 어떤 운동을 해야하나요?\" \n",
    ")\n",
    "\n",
    "\n",
    "chain = full_prompt | chat\n",
    "\n",
    "chain.invoke({\"user_name\": \"박서영\", \"example_question\": \"다이어트 하려면 어떤 운동을 해야하나요?\", \"example_answer\": \"러닝을 추천합니다.\", \"question\": \"복근 만드려면 어떤 운동을 해야하나요?\"})"
   ]
  }
 ],
 "metadata": {
  "kernelspec": {
   "display_name": "env",
   "language": "python",
   "name": "python3"
  },
  "language_info": {
   "codemirror_mode": {
    "name": "ipython",
    "version": 3
   },
   "file_extension": ".py",
   "mimetype": "text/x-python",
   "name": "python",
   "nbconvert_exporter": "python",
   "pygments_lexer": "ipython3",
   "version": "3.11.9"
  }
 },
 "nbformat": 4,
 "nbformat_minor": 2
}
