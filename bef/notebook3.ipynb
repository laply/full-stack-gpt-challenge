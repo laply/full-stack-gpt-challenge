{
 "cells": [
  {
   "cell_type": "code",
   "execution_count": 24,
   "metadata": {},
   "outputs": [
    {
     "data": {
      "text/plain": [
       "'\\n    Human: 프랑스을 수도를 갖고있는 나라의 정보를 알려줘 AI: \\n     수도 : 파리\\n     인구: 2,140,526\\n     면적: 105.4 km²\\n     언어: 프랑스어\\n     통화: 유로 (EUR)\\n     공식 이름: 파리\\n     \\n\\n\\nHuman: 일본을 수도를 갖고있는 나라의 정보를 알려줘'"
      ]
     },
     "execution_count": 24,
     "metadata": {},
     "output_type": "execute_result"
    }
   ],
   "source": [
    "from dotenv import load_dotenv\n",
    "load_dotenv()  # .env 파일 로드\n",
    "\n",
    "from langchain.chat_models import ChatOpenAI\n",
    "from langchain.prompts.few_shot import FewShotPromptTemplate\n",
    "from langchain.callbacks import StreamingStdOutCallbackHandler\n",
    "from langchain.prompts import PromptTemplate\n",
    "from langchain.prompts.example_selector.base import BaseExampleSelector\n",
    "\n",
    "\n",
    "chat = ChatOpenAI(temperature=0.1, streaming=True, callbacks=[StreamingStdOutCallbackHandler()])\n",
    "\n",
    "\n",
    "examples = [\n",
    "    {\"question\": \"일본\", \"answer\": \"\"\"\n",
    "     수도 : 도쿄\n",
    "     인구: 9,273,000\n",
    "     면적: 2,191 km²\n",
    "     언어: 일본어\n",
    "     통화: 일본 엔 (JPY)\n",
    "     \"\"\"},\n",
    "    {\"question\": \"프랑스\", \"answer\": \"\"\"\n",
    "     수도 : 파리\n",
    "     인구: 2,140,526\n",
    "     면적: 105.4 km²\n",
    "     언어: 프랑스어\n",
    "     통화: 유로 (EUR)\n",
    "     공식 이름: 파리\n",
    "     \"\"\"},\n",
    "    {\"question\": \"영국\", \"answer\": \"\"\"\n",
    "     수도 : 런던\n",
    "     인구: 8,982,000\n",
    "     면적: 1,572 km²\n",
    "     언어: 영어\n",
    "     통화: 파운드 스털링 (GBP)\n",
    "     공식 이름: 런던\n",
    "     \"\"\"},\n",
    "]\n",
    "\n",
    "\n",
    "\n",
    "class RandomExampleSelector(BaseExampleSelector):\n",
    "  def __init__(self, examples):\n",
    "    self.examples = examples\n",
    "\n",
    "  def add_example(self, example):\n",
    "    self.examples.append(example)\n",
    "\n",
    "  def select_examples(self, input_variables):\n",
    "    from random import choice\n",
    "    return [choice(self.examples)]\n",
    "\n",
    "\n",
    "\n",
    "example_prompt = PromptTemplate.from_template(\"\"\"\n",
    "    Human: {question}을 수도를 갖고있는 나라의 정보를 알려줘 AI: {answer}\n",
    "\"\"\")\n",
    "\n",
    "example_selector = RandomExampleSelector(\n",
    "  examples=examples,\n",
    ")\n",
    "\n",
    "prompt = FewShotPromptTemplate(\n",
    "  example_prompt=example_prompt,\n",
    "  example_selector=example_selector,\n",
    "  suffix=\"Human: {question}을 수도를 갖고있는 나라의 정보를 알려줘\",\n",
    "  input_variables=[\"question\"]\n",
    ")\n",
    "\n",
    "prompt.format(question=\"일본\")"
   ]
  }
 ],
 "metadata": {
  "kernelspec": {
   "display_name": "env",
   "language": "python",
   "name": "python3"
  },
  "language_info": {
   "codemirror_mode": {
    "name": "ipython",
    "version": 3
   },
   "file_extension": ".py",
   "mimetype": "text/x-python",
   "name": "python",
   "nbconvert_exporter": "python",
   "pygments_lexer": "ipython3",
   "version": "3.11.9"
  }
 },
 "nbformat": 4,
 "nbformat_minor": 2
}
