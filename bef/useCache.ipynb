{
 "cells": [
  {
   "cell_type": "code",
   "execution_count": 5,
   "metadata": {},
   "outputs": [
    {
     "name": "stdout",
     "output_type": "stream",
     "text": [
      "\u001b[32;1m\u001b[1;3m[llm/start]\u001b[0m \u001b[1m[1:llm:ChatOpenAI] Entering LLM run with input:\n",
      "\u001b[0m{\n",
      "  \"prompts\": [\n",
      "    \"Human: 피자를 만들려면 어떻게해?\"\n",
      "  ]\n",
      "}\n",
      "\u001b[36;1m\u001b[1;3m[llm/end]\u001b[0m \u001b[1m[1:llm:ChatOpenAI] [4.70s] Exiting LLM run with output:\n",
      "\u001b[0m{\n",
      "  \"generations\": [\n",
      "    [\n",
      "      {\n",
      "        \"text\": \"피자를 만들기 위해서는 먼저 필요한 재료를 준비해야 합니다. 피자 반죽을 만들기 위해서는 밀가루, 물, 소금, 설탕, 이스트가 필요하며, 토핑으로는 토마토 소스, 치즈, 야채, 고기 등을 준비해야 합니다.\\n\\n1. 먼저 밀가루, 물, 소금, 설탕, 이스트를 섞어 반죽을 만듭니다. 반죽이 부드럽고 탄력있게 섞이도록 충분히 반죽해줍니다.\\n\\n2. 반죽을 덮고 따뜻한 곳에서 발효시켜줍니다. 약 1시간 정도가 걸립니다.\\n\\n3. 발효가 완료된 반죽을 반죽기로 밀어주고 동그랗게 모양을 만들어줍니다.\\n\\n4. 동그랗게 만든 반죽을 피자 팬에 올려주고 피자 소스를 발라줍니다.\\n\\n5. 치즈와 원하는 토핑들을 올려준 후, 200도로 예열된 오븐에 넣어 15-20분간 구워줍니다.\\n\\n6. 구워진 피자를 꺼내어 잘라내어 완성된 피자를 즐기면 됩니다.\\n\\n이렇게하면 집에서 간단하게 맛있는 피자를 만들 수 있습니다.\",\n",
      "        \"generation_info\": {\n",
      "          \"finish_reason\": \"stop\"\n",
      "        },\n",
      "        \"type\": \"ChatGeneration\",\n",
      "        \"message\": {\n",
      "          \"lc\": 1,\n",
      "          \"type\": \"constructor\",\n",
      "          \"id\": [\n",
      "            \"langchain\",\n",
      "            \"schema\",\n",
      "            \"messages\",\n",
      "            \"AIMessage\"\n",
      "          ],\n",
      "          \"kwargs\": {\n",
      "            \"content\": \"피자를 만들기 위해서는 먼저 필요한 재료를 준비해야 합니다. 피자 반죽을 만들기 위해서는 밀가루, 물, 소금, 설탕, 이스트가 필요하며, 토핑으로는 토마토 소스, 치즈, 야채, 고기 등을 준비해야 합니다.\\n\\n1. 먼저 밀가루, 물, 소금, 설탕, 이스트를 섞어 반죽을 만듭니다. 반죽이 부드럽고 탄력있게 섞이도록 충분히 반죽해줍니다.\\n\\n2. 반죽을 덮고 따뜻한 곳에서 발효시켜줍니다. 약 1시간 정도가 걸립니다.\\n\\n3. 발효가 완료된 반죽을 반죽기로 밀어주고 동그랗게 모양을 만들어줍니다.\\n\\n4. 동그랗게 만든 반죽을 피자 팬에 올려주고 피자 소스를 발라줍니다.\\n\\n5. 치즈와 원하는 토핑들을 올려준 후, 200도로 예열된 오븐에 넣어 15-20분간 구워줍니다.\\n\\n6. 구워진 피자를 꺼내어 잘라내어 완성된 피자를 즐기면 됩니다.\\n\\n이렇게하면 집에서 간단하게 맛있는 피자를 만들 수 있습니다.\",\n",
      "            \"additional_kwargs\": {}\n",
      "          }\n",
      "        }\n",
      "      }\n",
      "    ]\n",
      "  ],\n",
      "  \"llm_output\": {\n",
      "    \"token_usage\": {\n",
      "      \"prompt_tokens\": 25,\n",
      "      \"completion_tokens\": 452,\n",
      "      \"total_tokens\": 477,\n",
      "      \"prompt_tokens_details\": {\n",
      "        \"cached_tokens\": 0,\n",
      "        \"audio_tokens\": 0\n",
      "      },\n",
      "      \"completion_tokens_details\": {\n",
      "        \"reasoning_tokens\": 0,\n",
      "        \"audio_tokens\": 0,\n",
      "        \"accepted_prediction_tokens\": 0,\n",
      "        \"rejected_prediction_tokens\": 0\n",
      "      }\n",
      "    },\n",
      "    \"model_name\": \"gpt-3.5-turbo\",\n",
      "    \"system_fingerprint\": null\n",
      "  },\n",
      "  \"run\": null\n",
      "}\n"
     ]
    },
    {
     "data": {
      "text/plain": [
       "'피자를 만들기 위해서는 먼저 필요한 재료를 준비해야 합니다. 피자 반죽을 만들기 위해서는 밀가루, 물, 소금, 설탕, 이스트가 필요하며, 토핑으로는 토마토 소스, 치즈, 야채, 고기 등을 준비해야 합니다.\\n\\n1. 먼저 밀가루, 물, 소금, 설탕, 이스트를 섞어 반죽을 만듭니다. 반죽이 부드럽고 탄력있게 섞이도록 충분히 반죽해줍니다.\\n\\n2. 반죽을 덮고 따뜻한 곳에서 발효시켜줍니다. 약 1시간 정도가 걸립니다.\\n\\n3. 발효가 완료된 반죽을 반죽기로 밀어주고 동그랗게 모양을 만들어줍니다.\\n\\n4. 동그랗게 만든 반죽을 피자 팬에 올려주고 피자 소스를 발라줍니다.\\n\\n5. 치즈와 원하는 토핑들을 올려준 후, 200도로 예열된 오븐에 넣어 15-20분간 구워줍니다.\\n\\n6. 구워진 피자를 꺼내어 잘라내어 완성된 피자를 즐기면 됩니다.\\n\\n이렇게하면 집에서 간단하게 맛있는 피자를 만들 수 있습니다.'"
      ]
     },
     "execution_count": 5,
     "metadata": {},
     "output_type": "execute_result"
    }
   ],
   "source": [
    "from dotenv import load_dotenv\n",
    "load_dotenv()  # .env 파일 로드\n",
    "\n",
    "from langchain.chat_models import ChatOpenAI\n",
    "from langchain.callbacks import StreamingStdOutCallbackHandler\n",
    "from langchain.globals import set_llm_cache, set_debug\n",
    "from langchain.cache import InMemoryCache, SQLiteCache\n",
    "\n",
    "set_llm_cache(SQLiteCache(database_path=\"langchain.db\"))\n",
    "set_debug(True)\n",
    "\n",
    "chat = ChatOpenAI(temperature=0.1)\n",
    "\n",
    "chat.predict(\"피자를 만들려면 어떻게해?\")\n"
   ]
  }
 ],
 "metadata": {
  "kernelspec": {
   "display_name": "env",
   "language": "python",
   "name": "python3"
  },
  "language_info": {
   "codemirror_mode": {
    "name": "ipython",
    "version": 3
   },
   "file_extension": ".py",
   "mimetype": "text/x-python",
   "name": "python",
   "nbconvert_exporter": "python",
   "pygments_lexer": "ipython3",
   "version": "3.11.9"
  }
 },
 "nbformat": 4,
 "nbformat_minor": 2
}
