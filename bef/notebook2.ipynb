{
 "cells": [
  {
   "cell_type": "code",
   "execution_count": 4,
   "metadata": {},
   "outputs": [
    {
     "name": "stdout",
     "output_type": "stream",
     "text": [
      "1. Option 변수가 어디서 정의되었는지 코드에서 확인할 수 없습니다. Option 변수가 어디서 왔는지 명확하게 정의해야 합니다.\n",
      "\n",
      "2. Option이 빈 문자열인 경우에만 flag를 사용하여 값을 설정하고 있지만, Option이 이미 값이 있는 경우에는 처리하지 않고 넘어가는 부분이 있습니다. 이를 개선하여 Option이 이미 값이 있는 경우에도 flag를 사용하여 값을 설정하도록 수정해야 합니다.\n",
      "\n",
      "3. flag.Parse() 함수를 호출하기 전에 flag를 정의하는 부분이 있어야 합니다. flag.Parse() 함수를 호출하기 전에 flag를 정의하지 않으면 정상적으로 동작하지 않을 수 있습니다.\n",
      "\n",
      "4. 코드의 가독성을 높이기 위해 들여쓰기를 일관되게 적용해야 합니다. 현재 코드에서는 들여쓰기가 일관되지 않아 가독성이 떨어집니다. \n",
      "\n",
      "5. 함수나 변수명을 좀 더 명확하게 지어주면 코드를 이해하기 쉬워질 수 있습니다. 현재 코드에서는 Option, config, app 등의 변수나 함수명이 명확하지 않습니다. \n",
      "\n",
      "위의 내용을 고려하여 코드를 개선하면 좀 더 효율적이고 가독성이 좋은 코드를 작성할 수 있을 것입니다."
     ]
    },
    {
     "data": {
      "text/plain": [
       "AIMessageChunk(content='1. Option 변수가 어디서 정의되었는지 코드에서 확인할 수 없습니다. Option 변수가 어디서 왔는지 명확하게 정의해야 합니다.\\n\\n2. Option이 빈 문자열인 경우에만 flag를 사용하여 값을 설정하고 있지만, Option이 이미 값이 있는 경우에는 처리하지 않고 넘어가는 부분이 있습니다. 이를 개선하여 Option이 이미 값이 있는 경우에도 flag를 사용하여 값을 설정하도록 수정해야 합니다.\\n\\n3. flag.Parse() 함수를 호출하기 전에 flag를 정의하는 부분이 있어야 합니다. flag.Parse() 함수를 호출하기 전에 flag를 정의하지 않으면 정상적으로 동작하지 않을 수 있습니다.\\n\\n4. 코드의 가독성을 높이기 위해 들여쓰기를 일관되게 적용해야 합니다. 현재 코드에서는 들여쓰기가 일관되지 않아 가독성이 떨어집니다. \\n\\n5. 함수나 변수명을 좀 더 명확하게 지어주면 코드를 이해하기 쉬워질 수 있습니다. 현재 코드에서는 Option, config, app 등의 변수나 함수명이 명확하지 않습니다. \\n\\n위의 내용을 고려하여 코드를 개선하면 좀 더 효율적이고 가독성이 좋은 코드를 작성할 수 있을 것입니다.')"
      ]
     },
     "execution_count": 4,
     "metadata": {},
     "output_type": "execute_result"
    }
   ],
   "source": [
    "from dotenv import load_dotenv\n",
    "load_dotenv()  # .env 파일 로드\n",
    "\n",
    "from langchain.chat_models import ChatOpenAI\n",
    "from langchain.prompts.few_shot import FewShotPromptTemplate\n",
    "from langchain.callbacks import StreamingStdOutCallbackHandler\n",
    "from langchain.prompts import PromptTemplate\n",
    "\n",
    "chat = ChatOpenAI(temperature=0.1, streaming=True, callbacks=[StreamingStdOutCallbackHandler()])\n",
    "\n",
    "\n",
    "example_template = \"\"\"\n",
    "  Human: {question}\n",
    "  AI: {answer}\n",
    "\"\"\"\n",
    "\n",
    "example_prompt = PromptTemplate.from_template(example_template)\n",
    "\n",
    "prompt = FewShotPromptTemplate(\n",
    "  examples=[# code 예시 - 코드 수정 정보 \n",
    "    {\"question\": \"print('hello')\", \"answer\": \"print('hello') 이 코드는 오류가 있습니다. 오류 원인은 다음과 같습니다. \\n\\n\"},\n",
    "    {\"question\": \"print('hello')\", \"answer\": \"print('hello') 이 코드는 오류가 있습니다. 오류 원인은 다음과 같습니다. \\n\\n\"},\n",
    "  ],\n",
    "  example_prompt=example_prompt,\n",
    "  prefix=\"당신은 코드 리뷰어입니다. 코드를 리뷰하고 개선할 부분을 알려주세요. 코드는 다음과 같습니다: {code}\",\n",
    "  suffix=\"코드: {code}\",\n",
    "  input_variables=[\"code\"],\n",
    "  example_separator=\"\\n\\n\",\n",
    ")\n",
    "\n",
    "\n",
    "chain = prompt | chat\n",
    "\n",
    "chain.invoke({\"code\": 'func main() { } \\n'+\n"
   ]
  }
 ],
 "metadata": {
  "kernelspec": {
   "display_name": "env",
   "language": "python",
   "name": "python3"
  },
  "language_info": {
   "codemirror_mode": {
    "name": "ipython",
    "version": 3
   },
   "file_extension": ".py",
   "mimetype": "text/x-python",
   "name": "python",
   "nbconvert_exporter": "python",
   "pygments_lexer": "ipython3",
   "version": "3.11.9"
  }
 },
 "nbformat": 4,
 "nbformat_minor": 2
}
